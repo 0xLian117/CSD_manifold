{
 "cells": [
  {
   "cell_type": "code",
   "execution_count": 83,
   "id": "9cdb84ea",
   "metadata": {},
   "outputs": [],
   "source": [
    "import configparser\n",
    "\n",
    "config = configparser.ConfigParser()\n",
    "config.read(\"config.cfg\")\n",
    "BETA_PATH = config[\"DATA\"][\"BetaPath\"]\n",
    "output_dir = \"/home/liancheng/CSD_manifold/output\"\n",
    "INFO_PATH = config[\"DATA\"][\"StimuliInfo\"]\n",
    "FREE_PATH = config[\"DATA\"][\"FreesurferPath\"]"
   ]
  },
  {
   "cell_type": "markdown",
   "id": "13710ee7",
   "metadata": {},
   "source": [
    "## 存储每个被试的合并数据"
   ]
  },
  {
   "cell_type": "code",
   "execution_count": 13,
   "id": "5a6cd216",
   "metadata": {},
   "outputs": [
    {
     "name": "stdout",
     "output_type": "stream",
     "text": [
      "subject 1\n"
     ]
    },
    {
     "name": "stderr",
     "output_type": "stream",
     "text": [
      "  0%|          | 0/200 [00:00<?, ?it/s]"
     ]
    },
    {
     "name": "stderr",
     "output_type": "stream",
     "text": [
      "100%|██████████| 200/200 [05:00<00:00,  1.50s/it]\n"
     ]
    },
    {
     "name": "stdout",
     "output_type": "stream",
     "text": [
      "subject 2\n"
     ]
    },
    {
     "name": "stderr",
     "output_type": "stream",
     "text": [
      "100%|██████████| 200/200 [05:10<00:00,  1.55s/it]\n"
     ]
    },
    {
     "name": "stdout",
     "output_type": "stream",
     "text": [
      "subject 3\n"
     ]
    },
    {
     "name": "stderr",
     "output_type": "stream",
     "text": [
      "100%|██████████| 200/200 [05:36<00:00,  1.68s/it]\n"
     ]
    },
    {
     "name": "stdout",
     "output_type": "stream",
     "text": [
      "subject 4\n"
     ]
    },
    {
     "name": "stderr",
     "output_type": "stream",
     "text": [
      "100%|██████████| 200/200 [05:18<00:00,  1.59s/it]\n"
     ]
    },
    {
     "name": "stdout",
     "output_type": "stream",
     "text": [
      "subject 5\n"
     ]
    },
    {
     "name": "stderr",
     "output_type": "stream",
     "text": [
      "100%|██████████| 200/200 [05:01<00:00,  1.51s/it]\n"
     ]
    },
    {
     "name": "stdout",
     "output_type": "stream",
     "text": [
      "subject 6\n"
     ]
    },
    {
     "name": "stderr",
     "output_type": "stream",
     "text": [
      "100%|██████████| 200/200 [05:31<00:00,  1.66s/it]\n"
     ]
    },
    {
     "name": "stdout",
     "output_type": "stream",
     "text": [
      "subject 7\n"
     ]
    },
    {
     "name": "stderr",
     "output_type": "stream",
     "text": [
      "100%|██████████| 200/200 [05:16<00:00,  1.58s/it]\n"
     ]
    },
    {
     "name": "stdout",
     "output_type": "stream",
     "text": [
      "subject 8\n"
     ]
    },
    {
     "name": "stderr",
     "output_type": "stream",
     "text": [
      "100%|██████████| 200/200 [04:49<00:00,  1.45s/it]\n"
     ]
    }
   ],
   "source": [
    "import h5py\n",
    "from tqdm import tqdm\n",
    "import numpy as np\n",
    "import os\n",
    "\n",
    "for sub in range(1,9):\n",
    "    print('subject',sub)\n",
    "    lh_beta_mat = None\n",
    "    rh_beta_mat = None\n",
    "\n",
    "    for run in tqdm(range(1,201)): # 200\n",
    "\n",
    "        lh_file_path = \"%s/sub-%02d/sub-%02d_task-CSD_run-%03d_lh.hdf5\" % (BETA_PATH, sub, sub, run)\n",
    "        rh_file_path = \"%s/sub-%02d/sub-%02d_task-CSD_run-%03d_rh.hdf5\" % (BETA_PATH, sub, sub, run)\n",
    "        # 打开 hdf5 文件\n",
    "\n",
    "        try:\n",
    "            with h5py.File(lh_file_path, 'r') as f:\n",
    "                # 打印文件中的所有键（类似文件夹结构）\n",
    "                lh_beta = f['betas'][:]\n",
    "                if lh_beta_mat is None:\n",
    "                    lh_beta_mat = lh_beta\n",
    "                else:\n",
    "                    lh_beta_mat = np.vstack((lh_beta_mat, lh_beta))\n",
    "\n",
    "            with h5py.File(rh_file_path, 'r') as f:\n",
    "                # 打印文件中的所有键（类似文件夹结构）\n",
    "                rh_beta = f['betas'][:]\n",
    "                if rh_beta_mat is None:\n",
    "                    rh_beta_mat = rh_beta\n",
    "                else:\n",
    "                    rh_beta_mat = np.vstack((rh_beta_mat, rh_beta))\n",
    "\n",
    "        except FileNotFoundError:\n",
    "            break\n",
    "\n",
    "    if not os.path.isdir(\"%s/sub-%02d\" % (output_dir, sub)):\n",
    "            os.makedirs(\"%s/sub-%02d\" % (output_dir, sub))\n",
    "\n",
    "\n",
    "    np.save(\n",
    "                \"%s/sub-%02d/rh_beta_sub-%02d.npy\"\n",
    "                % (output_dir, sub, sub),\n",
    "                rh_beta_mat,\n",
    "            )\n",
    "    np.save(\n",
    "                \"%s/sub-%02d/lh_beta_sub-%02d.npy\"\n",
    "                % (output_dir, sub, sub),\n",
    "                lh_beta_mat,\n",
    "            )\n"
   ]
  },
  {
   "cell_type": "code",
   "execution_count": 27,
   "id": "69030116",
   "metadata": {},
   "outputs": [
    {
     "name": "stderr",
     "output_type": "stream",
     "text": [
      "100%|██████████| 200/200 [00:00<00:00, 407.93it/s]\n",
      "100%|██████████| 200/200 [00:00<00:00, 553.20it/s]\n",
      "100%|██████████| 200/200 [00:00<00:00, 601.32it/s]\n",
      "100%|██████████| 200/200 [00:00<00:00, 581.98it/s]\n",
      "100%|██████████| 200/200 [00:00<00:00, 504.99it/s]\n",
      "100%|██████████| 200/200 [00:00<00:00, 540.77it/s]\n",
      "100%|██████████| 200/200 [00:00<00:00, 586.25it/s]\n",
      "100%|██████████| 200/200 [00:00<00:00, 588.73it/s]\n"
     ]
    }
   ],
   "source": [
    "import pandas as pd\n",
    "for sub in range(1,9):\n",
    "    merged = None\n",
    "    for run in tqdm(range(1,201)):\n",
    "        info_path = \"%s/sub-%02d/subject%d_run%d.txt\" % (INFO_PATH, sub, sub, run)\n",
    "        info = pd.read_csv(info_path, encoding='GBK', sep='\\t')\n",
    "        info_clean = info[info['Blank'] != 1]   \n",
    "        info_clean = info_clean[['Unmatch', 'Image', 'Caption']]\n",
    "        if merged is None:\n",
    "            merged = info_clean\n",
    "        else:\n",
    "            merged = pd.concat([merged,info_clean],axis=0).reset_index(drop=True)\n",
    "    merged.to_csv(\"%s/sub-%02d/stimuli_info_sub-%02d.txt\"\n",
    "                % (output_dir, sub, sub),\n",
    "                  sep='\\t', encoding='utf-8')\n"
   ]
  },
  {
   "cell_type": "markdown",
   "id": "9e54d22c",
   "metadata": {},
   "source": [
    "## 处理coco"
   ]
  },
  {
   "cell_type": "markdown",
   "id": "954eace5",
   "metadata": {},
   "source": [
    "COCO categories: \n",
    "person bicycle car motorcycle airplane bus train truck boat traffic light fire hydrant stop sign parking meter bench bird cat dog horse sheep cow elephant bear zebra giraffe backpack umbrella handbag tie suitcase frisbee skis snowboard sports ball kite baseball bat baseball glove skateboard surfboard tennis racket bottle wine glass cup fork knife spoon bowl banana apple sandwich orange broccoli carrot hot dog pizza donut cake chair couch potted plant bed dining table toilet tv laptop mouse remote keyboard cell phone microwave oven toaster sink refrigerator book clock vase scissors teddy bear hair drier toothbrush\n",
    "\n",
    "COCO supercategories: \n",
    "indoor vehicle animal kitchen furniture outdoor accessory person food electronic appliance sports"
   ]
  },
  {
   "cell_type": "code",
   "execution_count": null,
   "id": "8a499239",
   "metadata": {},
   "outputs": [
    {
     "name": "stdout",
     "output_type": "stream",
     "text": [
      "loading annotations into memory...\n",
      "Done (t=7.06s)\n",
      "creating index...\n",
      "index created!\n",
      "loading annotations into memory...\n",
      "Done (t=3.81s)\n",
      "creating index...\n",
      "index created!\n"
     ]
    },
    {
     "data": {
      "text/plain": [
       "('sports', 'sports ball')"
      ]
     },
     "execution_count": 41,
     "metadata": {},
     "output_type": "execute_result"
    }
   ],
   "source": [
    "%matplotlib inline\n",
    "from pycocotools.coco import COCO\n",
    "import numpy as np\n",
    "from collections import Counter\n",
    "\n",
    "coco_train = COCO('annotations/instances_train2014.json')\n",
    "coco_val = COCO('annotations/instances_val2014.json')"
   ]
  },
  {
   "cell_type": "code",
   "execution_count": 68,
   "id": "930123e0",
   "metadata": {},
   "outputs": [],
   "source": [
    "from collections import Counter\n",
    "def get_center_supcat(coco_train,coco_val,file_name):\n",
    "    \"\"\" \n",
    "    离注视点最近的超类别和类别 \n",
    "    \n",
    "    输入：\n",
    "    coco_train coco_val：即load好的实例类\n",
    "    file_name：来自stimuli info的图片文件名\n",
    "\n",
    "    输出：离注视点最近的超类别和类别\n",
    "    \"\"\"\n",
    "\n",
    "    img_id = int(file_name.split('_')[-1].split('.')[0])\n",
    "    if 'train' in file_name:\n",
    "        coco = coco_train\n",
    "    elif 'val' in file_name :\n",
    "        coco = coco_val\n",
    "    else:\n",
    "        raise NameError\n",
    "    \n",
    "    \n",
    "    img_info = coco.loadImgs(img_id)[0]\n",
    "    center_x, center_y = img_info['width'] / 2, img_info['height'] / 2\n",
    "\n",
    "\n",
    "    ann_ids = coco.getAnnIds(imgIds=img_id)\n",
    "    anns = coco.loadAnns(ann_ids)\n",
    "\n",
    "    if not anns:\n",
    "        return None \n",
    "\n",
    "\n",
    "    min_dist = float('inf')\n",
    "    closest_ann = None\n",
    "\n",
    "    for ann in anns:\n",
    "        x, y, w, h = ann['bbox']  # COCO bbox = [x, y, width, height]\n",
    "        ann_center_x = x + w / 2\n",
    "        ann_center_y = y + h / 2\n",
    "        dist = np.sqrt((ann_center_x - center_x)**2 + (ann_center_y - center_y)**2)\n",
    "        if dist < min_dist:\n",
    "            min_dist = dist\n",
    "            closest_ann = ann\n",
    "\n",
    "    \n",
    "    if closest_ann:\n",
    "        cat_info = coco.loadCats(closest_ann['category_id'])[0]\n",
    "        return cat_info['supercategory']\n",
    "    else:\n",
    "        return None\n",
    "    \n",
    "def get_frequent_supcat(coco_train,coco_val,file_name):\n",
    "    \"\"\" \n",
    "    图片中出现最多的超类别和类别 \n",
    "    \n",
    "    输入：\n",
    "    coco_train coco_val：即load好的实例类\n",
    "    file_name：来自stimuli info的图片文件名\n",
    "\n",
    "    输出：图片中出现最多的超类别和类别 \n",
    "    \"\"\"\n",
    "\n",
    "    img_id = int(file_name.split('_')[-1].split('.')[0])\n",
    "    if 'train' in file_name:\n",
    "        coco = coco_train\n",
    "    elif 'val' in file_name :\n",
    "        coco = coco_val\n",
    "    else:\n",
    "        raise NameError\n",
    "    \n",
    "\n",
    "    ann_ids = coco.getAnnIds(imgIds=img_id)\n",
    "    anns = coco.loadAnns(ann_ids)\n",
    "    if not anns:\n",
    "        return None\n",
    "\n",
    "    category_ids = [ann['category_id'] for ann in anns]\n",
    "    cat_counter = Counter(category_ids)\n",
    "    \n",
    "    most_common_id, count = cat_counter.most_common(1)[0]\n",
    "    if most_common_id:\n",
    "        cat_info = coco.loadCats(most_common_id)[0] \n",
    "        return cat_info['supercategory']\n",
    "    else:\n",
    "        return None"
   ]
  },
  {
   "cell_type": "code",
   "execution_count": 69,
   "id": "27cbfbf8",
   "metadata": {},
   "outputs": [],
   "source": [
    "sub = 1 \n",
    "df = pd.read_csv(\"%s/sub-%02d/stimuli_info_sub-%02d.txt\"\n",
    "                % (output_dir, sub, sub),\n",
    "                  sep='\\t', encoding='utf-8',index_col = 0)\n",
    "df['center_cat'] = df['Image'].apply(lambda x: get_center_supcat(coco_train, coco_val, x))\n",
    "df['frequent_cat'] = df['Image'].apply(lambda x: get_frequent_supcat(coco_train, coco_val, x))"
   ]
  },
  {
   "cell_type": "code",
   "execution_count": null,
   "id": "24d63e8a",
   "metadata": {},
   "outputs": [
    {
     "data": {
      "text/html": [
       "<div>\n",
       "<style scoped>\n",
       "    .dataframe tbody tr th:only-of-type {\n",
       "        vertical-align: middle;\n",
       "    }\n",
       "\n",
       "    .dataframe tbody tr th {\n",
       "        vertical-align: top;\n",
       "    }\n",
       "\n",
       "    .dataframe thead th {\n",
       "        text-align: right;\n",
       "    }\n",
       "</style>\n",
       "<table border=\"1\" class=\"dataframe\">\n",
       "  <thead>\n",
       "    <tr style=\"text-align: right;\">\n",
       "      <th></th>\n",
       "      <th>Unmatch</th>\n",
       "      <th>Image</th>\n",
       "      <th>Caption</th>\n",
       "      <th>center_cat</th>\n",
       "      <th>frequent_cat</th>\n",
       "    </tr>\n",
       "  </thead>\n",
       "  <tbody>\n",
       "    <tr>\n",
       "      <th>0</th>\n",
       "      <td>0</td>\n",
       "      <td>COCO_train2014_000000219229.jpg</td>\n",
       "      <td>围栏里一群羊懒洋洋的躺着。</td>\n",
       "      <td>animal</td>\n",
       "      <td>animal</td>\n",
       "    </tr>\n",
       "    <tr>\n",
       "      <th>1</th>\n",
       "      <td>0</td>\n",
       "      <td>COCO_train2014_000000389352.jpg</td>\n",
       "      <td>一个平坦的滑雪场内分布着许多人。</td>\n",
       "      <td>sports</td>\n",
       "      <td>person</td>\n",
       "    </tr>\n",
       "    <tr>\n",
       "      <th>2</th>\n",
       "      <td>0</td>\n",
       "      <td>COCO_val2014_000000346774.jpg</td>\n",
       "      <td>餐桌上的一位女士面前放着一个大比萨饼。</td>\n",
       "      <td>kitchen</td>\n",
       "      <td>furniture</td>\n",
       "    </tr>\n",
       "    <tr>\n",
       "      <th>3</th>\n",
       "      <td>0</td>\n",
       "      <td>COCO_train2014_000000016669.jpg</td>\n",
       "      <td>桌子上放着一台电脑和一个台灯</td>\n",
       "      <td>electronic</td>\n",
       "      <td>electronic</td>\n",
       "    </tr>\n",
       "    <tr>\n",
       "      <th>4</th>\n",
       "      <td>0</td>\n",
       "      <td>COCO_train2014_000000435414.jpg</td>\n",
       "      <td>一个男人和两只狗在公园中散步</td>\n",
       "      <td>animal</td>\n",
       "      <td>animal</td>\n",
       "    </tr>\n",
       "    <tr>\n",
       "      <th>...</th>\n",
       "      <td>...</td>\n",
       "      <td>...</td>\n",
       "      <td>...</td>\n",
       "      <td>...</td>\n",
       "      <td>...</td>\n",
       "    </tr>\n",
       "    <tr>\n",
       "      <th>4395</th>\n",
       "      <td>0</td>\n",
       "      <td>COCO_train2014_000000166207.jpg</td>\n",
       "      <td>一男一女在街道上并肩行走</td>\n",
       "      <td>person</td>\n",
       "      <td>person</td>\n",
       "    </tr>\n",
       "    <tr>\n",
       "      <th>4396</th>\n",
       "      <td>0</td>\n",
       "      <td>COCO_train2014_000000230289.jpg</td>\n",
       "      <td>一个人站在山顶正准备向下滑雪</td>\n",
       "      <td>person</td>\n",
       "      <td>person</td>\n",
       "    </tr>\n",
       "    <tr>\n",
       "      <th>4397</th>\n",
       "      <td>0</td>\n",
       "      <td>COCO_train2014_000000298835.jpg</td>\n",
       "      <td>几个游客在长椅上休息。</td>\n",
       "      <td>person</td>\n",
       "      <td>person</td>\n",
       "    </tr>\n",
       "    <tr>\n",
       "      <th>4398</th>\n",
       "      <td>0</td>\n",
       "      <td>COCO_val2014_000000343218.jpg</td>\n",
       "      <td>一个男人在网球场里挥起球拍打球</td>\n",
       "      <td>sports</td>\n",
       "      <td>sports</td>\n",
       "    </tr>\n",
       "    <tr>\n",
       "      <th>4399</th>\n",
       "      <td>0</td>\n",
       "      <td>COCO_train2014_000000302838.jpg</td>\n",
       "      <td>舞台上表演理发师剪头发。</td>\n",
       "      <td>person</td>\n",
       "      <td>person</td>\n",
       "    </tr>\n",
       "  </tbody>\n",
       "</table>\n",
       "<p>4400 rows × 5 columns</p>\n",
       "</div>"
      ],
      "text/plain": [
       "      Unmatch                            Image              Caption  \\\n",
       "0           0  COCO_train2014_000000219229.jpg        围栏里一群羊懒洋洋的躺着。   \n",
       "1           0  COCO_train2014_000000389352.jpg     一个平坦的滑雪场内分布着许多人。   \n",
       "2           0    COCO_val2014_000000346774.jpg  餐桌上的一位女士面前放着一个大比萨饼。   \n",
       "3           0  COCO_train2014_000000016669.jpg       桌子上放着一台电脑和一个台灯   \n",
       "4           0  COCO_train2014_000000435414.jpg       一个男人和两只狗在公园中散步   \n",
       "...       ...                              ...                  ...   \n",
       "4395        0  COCO_train2014_000000166207.jpg         一男一女在街道上并肩行走   \n",
       "4396        0  COCO_train2014_000000230289.jpg       一个人站在山顶正准备向下滑雪   \n",
       "4397        0  COCO_train2014_000000298835.jpg          几个游客在长椅上休息。   \n",
       "4398        0    COCO_val2014_000000343218.jpg      一个男人在网球场里挥起球拍打球   \n",
       "4399        0  COCO_train2014_000000302838.jpg         舞台上表演理发师剪头发。   \n",
       "\n",
       "      center_cat frequent_cat  \n",
       "0         animal       animal  \n",
       "1         sports       person  \n",
       "2        kitchen    furniture  \n",
       "3     electronic   electronic  \n",
       "4         animal       animal  \n",
       "...          ...          ...  \n",
       "4395      person       person  \n",
       "4396      person       person  \n",
       "4397      person       person  \n",
       "4398      sports       sports  \n",
       "4399      person       person  \n",
       "\n",
       "[4400 rows x 5 columns]"
      ]
     },
     "execution_count": 70,
     "metadata": {},
     "output_type": "execute_result"
    }
   ],
   "source": [
    "df"
   ]
  },
  {
   "cell_type": "code",
   "execution_count": 99,
   "id": "7fd9f41d",
   "metadata": {},
   "outputs": [],
   "source": [
    "sub = 1\n",
    "df.to_csv(\"%s/sub-%02d/stimuli_info_sub-%02d_cat.txt\"\n",
    "                % (output_dir, sub, sub),\n",
    "                  sep='\\t', encoding='utf-8')"
   ]
  },
  {
   "cell_type": "code",
   "execution_count": 79,
   "id": "4303ac9b",
   "metadata": {},
   "outputs": [
    {
     "data": {
      "text/plain": [
       "1024"
      ]
     },
     "execution_count": 79,
     "metadata": {},
     "output_type": "execute_result"
    }
   ],
   "source": [
    "person_indices = df[(df['center_cat'] == 'person') & \n",
    "                    (df['Unmatch'] == 0)].index.tolist()\n",
    "len(person_indices)\n"
   ]
  },
  {
   "cell_type": "code",
   "execution_count": 80,
   "id": "398cc708",
   "metadata": {},
   "outputs": [],
   "source": [
    "import nibabel.freesurfer.io as fsio\n",
    "import nibabel as nib\n",
    "import numpy as np\n",
    "\n",
    "vcAtlas = ['hOc1','hOc2','hOc3v','hOc4v','FG1','FG2','FG3','FG4']"
   ]
  },
  {
   "cell_type": "code",
   "execution_count": 94,
   "id": "be1ba853",
   "metadata": {},
   "outputs": [],
   "source": [
    "sub = 1\n",
    "lh_beta = np.load(\"%s/sub-%02d/lh_beta_sub-%02d.npy\"\n",
    "                % (output_dir, sub, sub))\n",
    "rh_beta = np.load(\"%s/sub-%02d/rh_beta_sub-%02d.npy\"\n",
    "                % (output_dir, sub, sub))\n",
    "for i in range(8):\n",
    "    atla = vcAtlas[i]\n",
    "\n",
    "    lh_label_path = \"%s/sub-%02d/label/lh.%s.mpm.vpnl.label\" % (FREE_PATH, sub, atla)\n",
    "    rh_label_path = \"%s/sub-%02d/label/rh.%s.mpm.vpnl.label\" % (FREE_PATH, sub, atla)\n",
    "    lh_label= fsio.read_label(lh_label_path)  # verts 是顶点编号数组\n",
    "    rh_label= fsio.read_label(rh_label_path) \n",
    "\n",
    "    np.save(\n",
    "                \"%s/sub-%02d/lh_beta_sub-%02d_%s.npy\"\n",
    "                % (output_dir, sub, sub, atla),\n",
    "                lh_beta[:,lh_label],\n",
    "            )\n",
    "    np.save(\n",
    "                \"%s/sub-%02d/rh_beta_sub-%02d_%s.npy\"\n",
    "                % (output_dir, sub, sub, atla),\n",
    "                rh_beta[:,rh_label],\n",
    "            )\n",
    "\n"
   ]
  },
  {
   "cell_type": "markdown",
   "id": "afab8940",
   "metadata": {},
   "source": []
  },
  {
   "cell_type": "code",
   "execution_count": null,
   "id": "5433ed6a",
   "metadata": {},
   "outputs": [
    {
     "ename": "ModuleNotFoundError",
     "evalue": "No module named 'pymanopt.solvers'",
     "output_type": "error",
     "traceback": [
      "\u001b[0;31m---------------------------------------------------------------------------\u001b[0m",
      "\u001b[0;31mModuleNotFoundError\u001b[0m                       Traceback (most recent call last)",
      "Cell \u001b[0;32mIn[98], line 1\u001b[0m\n\u001b[0;32m----> 1\u001b[0m \u001b[38;5;28;01mfrom\u001b[39;00m\u001b[38;5;250m \u001b[39m\u001b[38;5;21;01mmanifold\u001b[39;00m\u001b[38;5;21;01m.\u001b[39;00m\u001b[38;5;21;01mmftma\u001b[39;00m\u001b[38;5;21;01m.\u001b[39;00m\u001b[38;5;21;01mmanifold_analysis_correlation\u001b[39;00m\u001b[38;5;250m \u001b[39m\u001b[38;5;28;01mimport\u001b[39;00m manifold_analysis_corr\n",
      "File \u001b[0;32m~/CSD_manifold/manifold/mftma/manifold_analysis_correlation.py:16\u001b[0m\n\u001b[1;32m     14\u001b[0m \u001b[38;5;28;01mfrom\u001b[39;00m\u001b[38;5;250m \u001b[39m\u001b[38;5;21;01mpymanopt\u001b[39;00m\u001b[38;5;21;01m.\u001b[39;00m\u001b[38;5;21;01mmanifolds\u001b[39;00m\u001b[38;5;250m \u001b[39m\u001b[38;5;28;01mimport\u001b[39;00m Stiefel\n\u001b[1;32m     15\u001b[0m \u001b[38;5;28;01mfrom\u001b[39;00m\u001b[38;5;250m \u001b[39m\u001b[38;5;21;01mpymanopt\u001b[39;00m\u001b[38;5;250m \u001b[39m\u001b[38;5;28;01mimport\u001b[39;00m Problem\n\u001b[0;32m---> 16\u001b[0m \u001b[38;5;28;01mfrom\u001b[39;00m\u001b[38;5;250m \u001b[39m\u001b[38;5;21;01mpymanopt\u001b[39;00m\u001b[38;5;21;01m.\u001b[39;00m\u001b[38;5;21;01msolvers\u001b[39;00m\u001b[38;5;250m \u001b[39m\u001b[38;5;28;01mimport\u001b[39;00m ConjugateGradient\n\u001b[1;32m     18\u001b[0m \u001b[38;5;66;03m# Configure cvxopt solvers\u001b[39;00m\n\u001b[1;32m     19\u001b[0m solvers\u001b[38;5;241m.\u001b[39moptions[\u001b[38;5;124m'\u001b[39m\u001b[38;5;124mshow_progress\u001b[39m\u001b[38;5;124m'\u001b[39m] \u001b[38;5;241m=\u001b[39m \u001b[38;5;28;01mFalse\u001b[39;00m\n",
      "\u001b[0;31mModuleNotFoundError\u001b[0m: No module named 'pymanopt.solvers'"
     ]
    }
   ],
   "source": [
    "from manifold.mftma.manifold_analysis_correlation import manifold_analysis_corr\n",
    "\n",
    "for layer, data, in activations.items():\n",
    "    X = [d.reshape(d.shape[0], -1).T for d in data]\n",
    "    # Get the number of features in the flattened data\n",
    "    N = X[0].shape[0]\n",
    "    # If N is greater than 5000, do the random projection to 5000 features\n",
    "    if N > 5000:\n",
    "        print(\"Projecting {}\".format(layer))\n",
    "        M = np.random.randn(5000, N)\n",
    "        M /= np.sqrt(np.sum(M*M, axis=1, keepdims=True))\n",
    "        X = [np.matmul(M, d) for d in X]\n",
    "    activations[layer] = X\n",
    "\n",
    "capacities = []\n",
    "radii = []\n",
    "dimensions = []\n",
    "correlations = []\n",
    "\n",
    "for k, X, in activations.items():\n",
    "    # Analyze each layer's activations\n",
    "    a, r, d, r0, K = manifold_analysis_corr(X, 0, 300, n_reps=1)\n",
    "    \n",
    "    # Compute the mean values\n",
    "    a = 1/np.mean(1/a)\n",
    "    r = np.mean(r)\n",
    "    d = np.mean(d)\n",
    "    print(\"{} capacity: {:4f}, radius {:4f}, dimension {:4f}, correlation {:4f}\".format(k, a, r, d, r0))\n",
    "    \n",
    "    # Store for later\n",
    "    capacities.append(a)\n",
    "    radii.append(r)\n",
    "    dimensions.append(d)\n",
    "    correlations.append(r0)\n"
   ]
  },
  {
   "cell_type": "code",
   "execution_count": null,
   "id": "fe4b60e0",
   "metadata": {},
   "outputs": [],
   "source": []
  },
  {
   "cell_type": "code",
   "execution_count": null,
   "id": "476b3d09",
   "metadata": {},
   "outputs": [],
   "source": []
  }
 ],
 "metadata": {
  "kernelspec": {
   "display_name": "csd",
   "language": "python",
   "name": "python3"
  },
  "language_info": {
   "codemirror_mode": {
    "name": "ipython",
    "version": 3
   },
   "file_extension": ".py",
   "mimetype": "text/x-python",
   "name": "python",
   "nbconvert_exporter": "python",
   "pygments_lexer": "ipython3",
   "version": "3.9.23"
  }
 },
 "nbformat": 4,
 "nbformat_minor": 5
}
